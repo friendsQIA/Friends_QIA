{
 "cells": [
  {
   "cell_type": "code",
   "execution_count": 1,
   "metadata": {},
   "outputs": [],
   "source": [
    "# General imports\n",
    "import numpy as np\n",
    "import pandas as pd\n",
    "\n",
    "# Metrics\n",
    "from sklearn.metrics import accuracy_score\n",
    "from sklearn.metrics import f1_score\n",
    "from sklearn.metrics import classification_report\n",
    "import statistics as s\n",
    "\n",
    "# Own functions\n",
    "from data_preparation import preprocessing_functions as preproc\n",
    "from data_preparation import preprocessing_functions_for_final_runs as preproc_final\n",
    "\n",
    "# Plots\n",
    "import matplotlib.pyplot as plt\n",
    "import seaborn as sn"
   ]
  },
  {
   "cell_type": "code",
   "execution_count": 2,
   "metadata": {},
   "outputs": [],
   "source": [
    "import warnings\n",
    "warnings.filterwarnings('ignore')"
   ]
  },
  {
   "cell_type": "code",
   "execution_count": 3,
   "metadata": {},
   "outputs": [],
   "source": [
    "qa_data_train = pd.read_csv('Data/Friends_data/Final_QA_datasets/qa_data_train.csv', sep='\\t', index_col=0)\n",
    "qa_data_tune = pd.read_csv('Data/Friends_data/Final_QA_datasets/qa_data_tune.csv', sep='\\t', index_col=0)\n",
    "qa_data_dev = pd.read_csv('Data/Friends_data/Final_QA_datasets/qa_data_dev.csv', sep='\\t', index_col=0)\n",
    "qa_data_test = pd.read_csv('Data/Friends_data/Final_QA_datasets/qa_data_test.csv', sep='\\t', index_col=0)\n",
    "\n",
    "X_train, Y_train, X_dev, Y_dev, Y_dev_original, X_test, Y_test, vocab, vocab_size, maxlen, tokenizer, number_of_labels = preproc_final.preprocessing(qa_data_train, qa_data_tune, qa_data_dev, qa_data_test, exclude=[5,6], multi_input=False, input_def='c')"
   ]
  },
  {
   "cell_type": "markdown",
   "metadata": {},
   "source": [
    "# Accuracy and F1-score for DEV and TEST sets - average of 3 runs"
   ]
  },
  {
   "cell_type": "code",
   "execution_count": 4,
   "metadata": {},
   "outputs": [],
   "source": [
    "dev1 = \"predictions/CNN_bert_crowds/bert_crowds_dev1.npz\"\n",
    "dev2 = \"predictions/CNN_bert_crowds/bert_crowds_dev2.npz\"\n",
    "dev3 = \"predictions/CNN_bert_crowds/bert_crowds_dev3.npz\"\n",
    "\n",
    "test1 = \"predictions/CNN_bert_crowds/bert_crowds_test1.npz\"\n",
    "test2 = \"predictions/CNN_bert_crowds/bert_crowds_test2.npz\"\n",
    "test3 = \"predictions/CNN_bert_crowds/bert_crowds_test3.npz\""
   ]
  },
  {
   "cell_type": "code",
   "execution_count": 5,
   "metadata": {},
   "outputs": [],
   "source": [
    "predictions_dev_1 = np.load(dev1)['arr_0']\n",
    "predictions_dev_2 = np.load(dev2)['arr_0']\n",
    "predictions_dev_3 = np.load(dev3)['arr_0']\n",
    "\n",
    "predictions_test_1 = np.load(test1)['arr_0']\n",
    "predictions_test_2 = np.load(test2)['arr_0']\n",
    "predictions_test_3 = np.load(test3)['arr_0']"
   ]
  },
  {
   "cell_type": "code",
   "execution_count": 6,
   "metadata": {},
   "outputs": [],
   "source": [
    "acc_dev1 = accuracy_score(Y_dev_original, predictions_dev_1)\n",
    "acc_dev2 = accuracy_score(Y_dev_original, predictions_dev_2)\n",
    "acc_dev3 = accuracy_score(Y_dev_original, predictions_dev_3)\n",
    "\n",
    "acc_test1 = accuracy_score(Y_test, predictions_test_1)\n",
    "acc_test2 = accuracy_score(Y_test, predictions_test_2)\n",
    "acc_test3 = accuracy_score(Y_test, predictions_test_3)\n",
    "\n",
    "fsc_dev1 = f1_score(Y_dev_original, predictions_dev_1, average='macro')\n",
    "fsc_dev2 = f1_score(Y_dev_original, predictions_dev_2, average='macro')\n",
    "fsc_dev3 = f1_score(Y_dev_original, predictions_dev_3, average='macro')\n",
    "\n",
    "fsc_test1 = f1_score(Y_test, predictions_test_1, average='macro')\n",
    "fsc_test2 = f1_score(Y_test, predictions_test_2, average='macro')\n",
    "fsc_test3 = f1_score(Y_test, predictions_test_3, average='macro')"
   ]
  },
  {
   "cell_type": "code",
   "execution_count": 7,
   "metadata": {},
   "outputs": [],
   "source": [
    "average_dev_acc = (acc_dev1 + acc_dev2 + acc_dev3) / 3\n",
    "average_test_acc = (acc_test1 + acc_test2 + acc_test3) / 3\n",
    "\n",
    "average_dev_fsc = (fsc_dev1 + fsc_dev2 + fsc_dev3) / 3\n",
    "average_test_fsc = (fsc_test1 + fsc_test2 + fsc_test3) / 3"
   ]
  },
  {
   "cell_type": "code",
   "execution_count": 8,
   "metadata": {},
   "outputs": [
    {
     "name": "stdout",
     "output_type": "stream",
     "text": [
      "DEV: \n",
      "Average accuracy: 63.463 with standard deviation: 0.195\n",
      "Average f1-score: 55.003 with standard deviation: 2.29\n",
      "\n",
      "TEST: \n",
      "Average accuracy: 60.315 with standard deviation: 1.373\n",
      "Average f1-score: 47.886 with standard deviation: 1.385\n"
     ]
    }
   ],
   "source": [
    "print(\"DEV: \\nAverage accuracy: {} with standard deviation: {}\".format(np.round(average_dev_acc*100,3), np.round(s.stdev([acc_dev1,acc_dev2,acc_dev3])*100,3)))\n",
    "print(\"Average f1-score: {} with standard deviation: {}\".format(np.round(average_dev_fsc*100,3), np.round(s.stdev([fsc_dev1,fsc_dev2,fsc_dev3])*100,3)))\n",
    "print()\n",
    "print(\"TEST: \\nAverage accuracy: {} with standard deviation: {}\".format(np.round(average_test_acc*100,3), np.round(s.stdev([acc_test1,acc_test2,acc_test3])*100,3)))\n",
    "print(\"Average f1-score: {} with standard deviation: {}\".format(np.round(average_test_fsc*100,3), np.round(s.stdev([fsc_test1,fsc_test2,fsc_test3])*100,3)))\n"
   ]
  },
  {
   "cell_type": "markdown",
   "metadata": {},
   "source": [
    "## Class-wise F1-score for DEV set"
   ]
  },
  {
   "cell_type": "code",
   "execution_count": 9,
   "metadata": {},
   "outputs": [
    {
     "name": "stdout",
     "output_type": "stream",
     "text": [
      "DEV:\n",
      "              precision    recall  f1-score   support\n",
      "\n",
      "           0       0.67      0.81      0.73       291\n",
      "           1       0.58      0.46      0.52       153\n",
      "           2       0.50      0.21      0.30        14\n",
      "           3       0.60      0.50      0.55       135\n",
      "\n",
      "    accuracy                           0.64       593\n",
      "   macro avg       0.59      0.50      0.52       593\n",
      "weighted avg       0.63      0.64      0.62       593\n",
      "\n",
      "              precision    recall  f1-score   support\n",
      "\n",
      "           0       0.70      0.72      0.71       291\n",
      "           1       0.58      0.55      0.56       153\n",
      "           2       0.45      0.36      0.40        14\n",
      "           3       0.57      0.58      0.57       135\n",
      "\n",
      "    accuracy                           0.64       593\n",
      "   macro avg       0.57      0.55      0.56       593\n",
      "weighted avg       0.63      0.64      0.63       593\n",
      "\n",
      "              precision    recall  f1-score   support\n",
      "\n",
      "           0       0.68      0.77      0.72       291\n",
      "           1       0.57      0.52      0.54       153\n",
      "           2       0.50      0.43      0.46        14\n",
      "           3       0.58      0.50      0.53       135\n",
      "\n",
      "    accuracy                           0.63       593\n",
      "   macro avg       0.58      0.55      0.56       593\n",
      "weighted avg       0.63      0.63      0.63       593\n",
      "\n"
     ]
    }
   ],
   "source": [
    "print(\"DEV:\")\n",
    "print(classification_report(Y_dev_original, predictions_dev_1))\n",
    "print(classification_report(Y_dev_original, predictions_dev_2))\n",
    "print(classification_report(Y_dev_original, predictions_dev_3))"
   ]
  },
  {
   "cell_type": "code",
   "execution_count": 10,
   "metadata": {},
   "outputs": [],
   "source": [
    "f1_1 = f1_score(Y_dev_original,predictions_dev_1,average=None)\n",
    "f1_2 = f1_score(Y_dev_original,predictions_dev_2,average=None)\n",
    "f1_3 = f1_score(Y_dev_original,predictions_dev_3,average=None)"
   ]
  },
  {
   "cell_type": "code",
   "execution_count": 11,
   "metadata": {},
   "outputs": [
    {
     "name": "stdout",
     "output_type": "stream",
     "text": [
      "[0.73208723 0.51636364 0.3        0.54618474]\n",
      "[0.71307301 0.56187291 0.4        0.57142857]\n",
      "[0.72285251 0.54109589 0.46153846 0.53386454]\n"
     ]
    }
   ],
   "source": [
    "print(f1_1)\n",
    "print(f1_2)\n",
    "print(f1_3)"
   ]
  },
  {
   "cell_type": "code",
   "execution_count": 12,
   "metadata": {},
   "outputs": [
    {
     "data": {
      "text/plain": [
       "array([0.72267091, 0.53977748, 0.38717949, 0.55049262])"
      ]
     },
     "execution_count": 12,
     "metadata": {},
     "output_type": "execute_result"
    }
   ],
   "source": [
    "np.average(np.asarray((f1_1,f1_2,f1_3)),axis=0)"
   ]
  },
  {
   "cell_type": "markdown",
   "metadata": {},
   "source": [
    "# Crowds - weights analysis"
   ]
  },
  {
   "cell_type": "code",
   "execution_count": 13,
   "metadata": {},
   "outputs": [],
   "source": [
    "friends_train = pd.concat([qa_data_train, qa_data_tune])\n",
    "\n",
    "friends_train_ann1 = np.delete(np.array([i-1 for i in friends_train['Annotation_1']]), 4678, axis=0)\n",
    "friends_train_ann2 = np.delete(np.array([i-1 for i in friends_train['Annotation_2']]), 4678, axis=0)\n",
    "friends_train_ann3 = np.delete(np.array([i-1 for i in friends_train['Annotation_3']]), 4678, axis=0)\n",
    "\n",
    "friends_train_ann1_onehot = preproc.one_hot_encoder_with_missing_labels(friends_train_ann1, number_of_labels)\n",
    "friends_train_ann2_onehot = preproc.one_hot_encoder_with_missing_labels(friends_train_ann2, number_of_labels)\n",
    "friends_train_ann3_onehot = preproc.one_hot_encoder_with_missing_labels(friends_train_ann3, number_of_labels)\n",
    "\n",
    "friends_anns_train = list([friends_train_ann1_onehot, friends_train_ann2_onehot, friends_train_ann3_onehot])\n",
    "friends_num_ann = len(friends_anns_train)\n",
    "friends_anns_train = np.asarray(friends_anns_train)\n",
    "friends_anns_train = np.transpose(friends_anns_train,(1,2,0))\n",
    "friends_data_size = len(friends_train)"
   ]
  },
  {
   "cell_type": "code",
   "execution_count": 14,
   "metadata": {},
   "outputs": [],
   "source": [
    "crowds_weights = np.load('predictions/bert_crowds_weights.npz')\n",
    "crowds_model_weights = np.array((crowds_weights['arr_0'],crowds_weights['arr_1'],crowds_weights['arr_2'],crowds_weights['arr_3']))"
   ]
  },
  {
   "cell_type": "code",
   "execution_count": 15,
   "metadata": {},
   "outputs": [],
   "source": [
    "label_1 = crowds_weights['arr_0']\n",
    "label_2 = crowds_weights['arr_1']\n",
    "label_3 = crowds_weights['arr_2']\n",
    "label_4 = crowds_weights['arr_3']"
   ]
  },
  {
   "cell_type": "code",
   "execution_count": 16,
   "metadata": {},
   "outputs": [],
   "source": [
    "mat_1 = np.asarray((label_1[:,0],label_2[:,0],label_3[:,0],label_4[:,0]))\n",
    "mat_2 = np.asarray((label_1[:,1],label_2[:,1],label_3[:,1],label_4[:,1]))\n",
    "mat_3 = np.asarray((label_1[:,2],label_2[:,2],label_3[:,2],label_4[:,2]))\n",
    "\n",
    "mat_1 = (np.transpose(mat_1) + np.abs(mat_1.min()))\n",
    "mat_1 = mat_1 / mat_1.max()\n",
    "\n",
    "mat_2 = (np.transpose(mat_2) + np.abs(mat_2.min()))\n",
    "mat_2 = mat_2 / mat_2.max()\n",
    "\n",
    "mat_3 = (np.transpose(mat_3) + np.abs(mat_3.min()))\n",
    "mat_3 = mat_3 / mat_3.max()"
   ]
  },
  {
   "cell_type": "code",
   "execution_count": 17,
   "metadata": {},
   "outputs": [],
   "source": [
    "def plot_weights(mat):\n",
    "    ax = sn.heatmap(mat, fmt='.0f', cmap=\"YlGnBu\", xticklabels=[1,2,3,4], yticklabels=[1,2,3,4])\n",
    "    bottom, top = ax.get_ylim()\n",
    "    plt.yticks(rotation=0)\n",
    "    plt.xlabel('Estimated weights')\n",
    "    plt.ylabel('True labels')\n",
    "    plt.show()"
   ]
  },
  {
   "cell_type": "code",
   "execution_count": 18,
   "metadata": {},
   "outputs": [
    {
     "data": {
      "image/png": "[encoded data removed]",
      "text/plain": [
       "<Figure size 432x288 with 2 Axes>"
      ]
     },
     "metadata": {
      "needs_background": "light"
     },
     "output_type": "display_data"
    },
    {
     "data": {
      "image/png": "[encoded data removed]",
      "text/plain": [
       "<Figure size 432x288 with 2 Axes>"
      ]
     },
     "metadata": {
      "needs_background": "light"
     },
     "output_type": "display_data"
    },
    {
     "data": {
      "image/png": "[encoded data removed]",
      "text/plain": [
       "<Figure size 432x288 with 2 Axes>"
      ]
     },
     "metadata": {
      "needs_background": "light"
     },
     "output_type": "display_data"
    }
   ],
   "source": [
    "plot_weights(mat_1)\n",
    "plot_weights(mat_2)\n",
    "plot_weights(mat_3)"
   ]
  },
  {
   "cell_type": "code",
   "execution_count": 19,
   "metadata": {},
   "outputs": [
    {
     "name": "stdout",
     "output_type": "stream",
     "text": [
      "[[1.         0.05774285 0.05904024 0.18346491]\n",
      " [0.13719626 0.97722757 0.01090449 0.24542259]\n",
      " [0.18584691 0.23321277 0.88363576 0.33270076]\n",
      " [0.26900426 0.21097896 0.         0.9522772 ]]\n",
      "[[1.         0.05484784 0.0190535  0.22905977]\n",
      " [0.08216262 0.9860981  0.00147686 0.28718606]\n",
      " [0.37782368 0.21556683 0.80413115 0.3798092 ]\n",
      " [0.2129817  0.17471638 0.         0.98475623]]\n",
      "[[1.         0.04753169 0.0554295  0.19950052]\n",
      " [0.02632921 0.9822643  0.16072914 0.22997676]\n",
      " [0.2725359  0.15989187 0.9617427  0.16333903]\n",
      " [0.30497143 0.25472754 0.         0.938791  ]]\n"
     ]
    }
   ],
   "source": [
    "print(mat_1)\n",
    "print(mat_2)\n",
    "print(mat_3)"
   ]
  },
  {
   "cell_type": "code",
   "execution_count": null,
   "metadata": {},
   "outputs": [],
   "source": []
  }
 ],
 "metadata": {
  "kernelspec": {
   "display_name": "Python 3",
   "language": "python",
   "name": "python3"
  },
  "language_info": {
   "codemirror_mode": {
    "name": "ipython",
    "version": 3
   },
   "file_extension": ".py",
   "mimetype": "text/x-python",
   "name": "python",
   "nbconvert_exporter": "python",
   "pygments_lexer": "ipython3",
   "version": "3.6.8"
  }
 },
 "nbformat": 4,
 "nbformat_minor": 5
}
